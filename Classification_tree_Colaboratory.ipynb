{
  "cells": [
    {
      "cell_type": "markdown",
      "metadata": {
        "id": "view-in-github",
        "colab_type": "text"
      },
      "source": [
        "<a href=\"https://colab.research.google.com/github/mpd5222/Pweb--Project/blob/main/Classification_tree_Colaboratory.ipynb\" target=\"_parent\"><img src=\"https://colab.research.google.com/assets/colab-badge.svg\" alt=\"Open In Colab\"/></a>"
      ]
    },
    {
      "cell_type": "markdown",
      "source": [
        "# DATASET WINE\n"
      ],
      "metadata": {
        "id": "uUrvSGbtX5Jj"
      }
    },
    {
      "cell_type": "code",
      "source": [
        "import numpy as np\n",
        "import pandas as pd\n",
        "import sklearn\n",
        "\n",
        "from sklearn.metrics import confusion_matrix\n",
        "from sklearn.tree import DecisionTreeClassifier\n",
        "from sklearn.metrics import accuracy_score\n",
        "from sklearn.datasets import load_breast_cancer\n",
        "from sklearn.datasets import load_wine\n",
        "from sklearn.datasets import load_diabetes\n",
        "from matplotlib import pyplot as plt\n",
        "from sklearn import datasets\n",
        "from sklearn import tree"
      ],
      "metadata": {
        "id": "aWKpGn3PMx0B"
      },
      "execution_count": null,
      "outputs": []
    },
    {
      "cell_type": "code",
      "source": [
        "#Datasets WIne\n",
        "data1 = load_wine()\n",
        "wine = pd.DataFrame(data1.data)\n",
        "print (\"features name: \", data1.feature_names)\n",
        "print(\"Datasets Shape:\", wine.shape)\n",
        "print(\"Dataset: \\n\", wine.head())"
      ],
      "metadata": {
        "id": "MSV6AXe1RCWV",
        "outputId": "f81fb610-ea3b-4ccc-d310-01ed8c76500a",
        "colab": {
          "base_uri": "https://localhost:8080/"
        }
      },
      "execution_count": null,
      "outputs": [
        {
          "output_type": "stream",
          "name": "stdout",
          "text": [
            "features name:  ['alcohol', 'malic_acid', 'ash', 'alcalinity_of_ash', 'magnesium', 'total_phenols', 'flavanoids', 'nonflavanoid_phenols', 'proanthocyanins', 'color_intensity', 'hue', 'od280/od315_of_diluted_wines', 'proline']\n",
            "Datasets Shape: (178, 13)\n",
            "Dataset: \n",
            "       0     1     2     3      4     5     6     7     8     9     10    11  \\\n",
            "0  14.23  1.71  2.43  15.6  127.0  2.80  3.06  0.28  2.29  5.64  1.04  3.92   \n",
            "1  13.20  1.78  2.14  11.2  100.0  2.65  2.76  0.26  1.28  4.38  1.05  3.40   \n",
            "2  13.16  2.36  2.67  18.6  101.0  2.80  3.24  0.30  2.81  5.68  1.03  3.17   \n",
            "3  14.37  1.95  2.50  16.8  113.0  3.85  3.49  0.24  2.18  7.80  0.86  3.45   \n",
            "4  13.24  2.59  2.87  21.0  118.0  2.80  2.69  0.39  1.82  4.32  1.04  2.93   \n",
            "\n",
            "       12  \n",
            "0  1065.0  \n",
            "1  1050.0  \n",
            "2  1185.0  \n",
            "3  1480.0  \n",
            "4   735.0  \n"
          ]
        }
      ]
    },
    {
      "cell_type": "code",
      "source": [
        "from sklearn.model_selection import train_test_split\n",
        "X = data1.train_test_split[1,0:13]\n",
        "Y = data1.target\n",
        "\n",
        "#split\n",
        "x_train1,x_test1,y_train1,y_test1 = train_test_split(X,Y, test_size=0.2, random_state=10)\n",
        "x_train2, x_test2, y_train2, y_test2 = train_test_split(X,Y, test_size=0.3, random_state=10)\n",
        "x_train3, x_test3, y_train3, y_test3 = train_test_split(X,Y, test_size=0.4, random_state=10)"
      ],
      "metadata": {
        "id": "0zclGdUOWkED"
      },
      "execution_count": null,
      "outputs": []
    },
    {
      "cell_type": "code",
      "source": [
        "model = DecisionTreeClassifier (random_state=100)\n",
        "model.fit(x_test1)\n",
        "\n",
        "y_pred1 = model.predict(x_test1)\n",
        "print(\"data testing 20%: \\n\", y_pred1)\n",
        "\n",
        "confus_mat1 = confusion_matrix(x_train1,y_pred1)\n",
        "print(\"data Consusion matrix 30%:\", confus_mat1)\n",
        "\n",
        "accuracy1 = accuracy_score(x_test1,y_pred1)\n",
        "print(\"skore acuracy data testing 40%:\", accuracy1)\n",
        "\n",
        "tree.plot_tree(model)\n",
        "text_representation = tree.export_text(data1)\n",
        "print(\"tree\\n\", text_representation)"
      ],
      "metadata": {
        "id": "xdV7zAIDRMyt"
      },
      "execution_count": null,
      "outputs": []
    },
    {
      "cell_type": "code",
      "source": [
        "clf = DecisionTreeClassifier (random_state=100)\n",
        "\n",
        "clf.fit = (x_train2, y_train2)\n",
        "\n",
        "y_pred2 = clf.predict(x_test2)\n",
        "print(\"data testing 20%: \\n\", y_pred2)\n",
        "\n",
        "confus_mat2 = confusion_matrix(x_train2,y_pred2)\n",
        "print(\"data Consusion matrix 30%:\", confus_mat2)\n",
        "\n",
        "accuracy2 = accuracy_score(x_test2,y_pred2)\n",
        "print(\"skore acuracy data testing 40%:\", accuracy2)\n",
        "\n",
        "tree.plot_tree(clf)\n",
        "text_representation = tree.export_text(clf)\n",
        "print(\"tree\\n\", text_representation)"
      ],
      "metadata": {
        "id": "S-9cnvNXRSgz"
      },
      "execution_count": null,
      "outputs": []
    },
    {
      "cell_type": "code",
      "source": [
        "clf = DecisionTreeClassifier (random_state=100)\n",
        "\n",
        "clf.fit = (x_train3, y_train3)\n",
        "\n",
        "y_pred3 = clf.predict(x_test3)\n",
        "print(\"data testing 20%: \\n\", y_pred3)\n",
        "\n",
        "confus_mat3 = confusion_matrix(x_train2,y_pred3)\n",
        "print(\"data Consusion matrix 30%:\", confus_mat3)\n",
        "\n",
        "accuracy3 = accuracy_score(x_test2,y_pred3)\n",
        "print(\"skore acuracy data testing 40%:\", accuracy3)\n",
        "\n",
        "tree.plot_tree(clf)\n",
        "text_representation = tree.export_text(clf)\n",
        "print(\"tree\\n\", text_representation)"
      ],
      "metadata": {
        "id": "H19ot_ZIRiQe"
      },
      "execution_count": null,
      "outputs": []
    },
    {
      "cell_type": "code",
      "source": [
        "#brest cancer\n",
        "data2 = load_breast_cancer()\n",
        "data_cancer = pd.DataFrame(data2.data)\n",
        "print (\"features name:\\n \", data2.feature_names)\n",
        "print(\"Datasets Shape: \\n\", wine.shape)\n",
        "print(\"Dataset: \\n\", wine.head())\n"
      ],
      "metadata": {
        "id": "fgbOmLiDRmE2",
        "outputId": "c694bad1-2b0c-4538-e41b-070cc64a02a6",
        "colab": {
          "base_uri": "https://localhost:8080/"
        }
      },
      "execution_count": null,
      "outputs": [
        {
          "output_type": "stream",
          "name": "stdout",
          "text": [
            "features name:\n",
            "  ['mean radius' 'mean texture' 'mean perimeter' 'mean area'\n",
            " 'mean smoothness' 'mean compactness' 'mean concavity'\n",
            " 'mean concave points' 'mean symmetry' 'mean fractal dimension'\n",
            " 'radius error' 'texture error' 'perimeter error' 'area error'\n",
            " 'smoothness error' 'compactness error' 'concavity error'\n",
            " 'concave points error' 'symmetry error' 'fractal dimension error'\n",
            " 'worst radius' 'worst texture' 'worst perimeter' 'worst area'\n",
            " 'worst smoothness' 'worst compactness' 'worst concavity'\n",
            " 'worst concave points' 'worst symmetry' 'worst fractal dimension']\n",
            "Datasets Shape: \n",
            " (178, 13)\n",
            "Dataset: \n",
            "       0     1     2     3      4     5     6     7     8     9     10    11  \\\n",
            "0  14.23  1.71  2.43  15.6  127.0  2.80  3.06  0.28  2.29  5.64  1.04  3.92   \n",
            "1  13.20  1.78  2.14  11.2  100.0  2.65  2.76  0.26  1.28  4.38  1.05  3.40   \n",
            "2  13.16  2.36  2.67  18.6  101.0  2.80  3.24  0.30  2.81  5.68  1.03  3.17   \n",
            "3  14.37  1.95  2.50  16.8  113.0  3.85  3.49  0.24  2.18  7.80  0.86  3.45   \n",
            "4  13.24  2.59  2.87  21.0  118.0  2.80  2.69  0.39  1.82  4.32  1.04  2.93   \n",
            "\n",
            "       12  \n",
            "0  1065.0  \n",
            "1  1050.0  \n",
            "2  1185.0  \n",
            "3  1480.0  \n",
            "4   735.0  \n"
          ]
        }
      ]
    },
    {
      "cell_type": "code",
      "source": [
        "from sklearn.model_selection import train_test_split\n",
        "X = data_cancer.values[1, 0:25]\n",
        "Y = data2.target\n",
        "\n",
        "#split\n",
        "x_train1, x_test1, y_train1, y_test1 = train_test_split(X,Y, test_size=0.2, random_state=10)\n",
        "x_train2, x_test2, y_train2, y_test2 = train_test_split(X,Y, test_size=0.3, random_state=10)\n",
        "x_train3, x_test3, y_train3, y_test3 = train_test_split(X,Y, test_size=0.4, random_state=10)"
      ],
      "metadata": {
        "id": "HE1IYZybRcfd"
      },
      "execution_count": null,
      "outputs": []
    },
    {
      "cell_type": "code",
      "source": [
        "clf = DecisionTreeClassifier (random_state=100)\n",
        "\n",
        "clf.fit = (x_train1, y_train1)\n",
        "\n",
        "y_pred1 = clf.predict(x_test3)\n",
        "print(\"data testing 20%: \\n\", y_pred1)\n",
        "\n",
        "confus_mat1 = confusion_matrix(x_train2,y_pred1)\n",
        "print(\"data Consusion matrix 30%:\", confus_mat1)\n",
        "\n",
        "accuracy1 = accuracy_score(x_test2,y_pred1)\n",
        "print(\"skore acuracy data testing 40%:\", accuracy1)\n",
        "\n",
        "tree.plot_tree(clf)\n",
        "text_representation = tree.export_text(clf)\n",
        "print(\"tree\\n\", text_representation)"
      ],
      "metadata": {
        "id": "XnP__57eRvC3"
      },
      "execution_count": null,
      "outputs": []
    },
    {
      "cell_type": "code",
      "source": [
        "#dataset diabetes\n",
        "data2 = load_diabetes()\n",
        "data_cancer = pd.DataFrame(data2.data)\n",
        "print (\"features name:\\n \", data2.feature_names)\n",
        "print(\"Datasets Shape: \\n\", wine.shape)\n",
        "print(\"Dataset: \\n\", wine.head())"
      ],
      "metadata": {
        "id": "d_6bcGDLRyak",
        "outputId": "687e9af1-1ba1-474a-a295-c2a347060b4b",
        "colab": {
          "base_uri": "https://localhost:8080/"
        }
      },
      "execution_count": null,
      "outputs": [
        {
          "output_type": "stream",
          "name": "stdout",
          "text": [
            "features name:\n",
            "  ['age', 'sex', 'bmi', 'bp', 's1', 's2', 's3', 's4', 's5', 's6']\n",
            "Datasets Shape: \n",
            " (178, 13)\n",
            "Dataset: \n",
            "       0     1     2     3      4     5     6     7     8     9     10    11  \\\n",
            "0  14.23  1.71  2.43  15.6  127.0  2.80  3.06  0.28  2.29  5.64  1.04  3.92   \n",
            "1  13.20  1.78  2.14  11.2  100.0  2.65  2.76  0.26  1.28  4.38  1.05  3.40   \n",
            "2  13.16  2.36  2.67  18.6  101.0  2.80  3.24  0.30  2.81  5.68  1.03  3.17   \n",
            "3  14.37  1.95  2.50  16.8  113.0  3.85  3.49  0.24  2.18  7.80  0.86  3.45   \n",
            "4  13.24  2.59  2.87  21.0  118.0  2.80  2.69  0.39  1.82  4.32  1.04  2.93   \n",
            "\n",
            "       12  \n",
            "0  1065.0  \n",
            "1  1050.0  \n",
            "2  1185.0  \n",
            "3  1480.0  \n",
            "4   735.0  \n"
          ]
        }
      ]
    },
    {
      "cell_type": "code",
      "source": [
        "clf = DecisionTreeClassifier (random_state=100)\n",
        "\n",
        "clf.fit = (x_train1, y_train1)\n",
        "\n",
        "y_pred1 = clf.predict(x_test3)\n",
        "print(\"data testing 20%: \\n\", y_pred1)\n",
        "\n",
        "confus_mat1 = confusion_matrix(x_train2,y_pred1)\n",
        "print(\"data Consusion matrix 20%:\", confus_mat1)\n",
        "\n",
        "accuracy1 = accuracy_score(x_test2,y_pred1)\n",
        "print(\"skore acuracy data testing 20%:\", accuracy1)\n",
        "\n",
        "tree.plot_tree(clf)\n",
        "text_representation = tree.export_text(clf)\n",
        "print(\"tree\\n\", text_representation)"
      ],
      "metadata": {
        "id": "6yiGxMy5R2YY"
      },
      "execution_count": null,
      "outputs": []
    }
  ],
  "metadata": {
    "colab": {
      "name": "Welcome To Colaboratory",
      "toc_visible": true,
      "provenance": [],
      "include_colab_link": true
    },
    "kernelspec": {
      "display_name": "Python 3",
      "name": "python3"
    }
  },
  "nbformat": 4,
  "nbformat_minor": 0
}